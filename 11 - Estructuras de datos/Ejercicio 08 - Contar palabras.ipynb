{
 "cells": [
  {
   "attachments": {},
   "cell_type": "markdown",
   "metadata": {},
   "source": [
    "# Ejercicio 8. Contar palabras\n",
    "\n",
    "## Enunciado\n",
    "\n",
    "Como fan de El Señor de los Anillos, te sabes algunos fragmentos del texto de memoria. Tienes curiosidad por conocer cuantas palabras tienen esos fragmentos, así que has decidido que, en lugar de contarlas manualmente, vas a utilizar tus conocimientos de Python y de diccionarios para crear un diccionario que almacene la frecuencia de aparición de cada palabra del texto.\n",
    "\n",
    "Crea un diccionario a partir del siguiente fragmento que como clave tenga cada una de las palabras diferentes que aparecen en ella y como valor el número de veces que aparece.\n",
    "\n",
    ">Un Anillo para gobernarlos a todos.    \n",
    ">Un Anillo para encontrarlos,    \n",
    ">un Anillo para atraerlos a todos y atarlos en las tinieblas.    \n",
    ">    \n",
    ">Tres Anillos para los Reyes Elfos bajo el cielo    \n",
    ">Siete para los Señores Enanos en palacios de piedra.    \n",
    ">Nueve para los Hombres Mortales condenados a morir.    \n",
    ">Uno para el Señor Oscuro, sobre el trono oscuro    \n",
    ">en la Tierra de Mordor donde se extienden las Sombras.    \n",
    ">Un Anillo para gobernarlos a todos.    \n",
    ">Un Anillo para encontrarlos,    \n",
    ">un Anillo para atraerlos a todos y atarlos en las tinieblas    \n",
    ">en la Tierra de Mordor donde se extienden las Sombras    \n",
    "\n",
    "Una vez tengas el diccionario, crea un fragmento de código que permita responder a las siguientes preguntas:\n",
    "\n",
    "1. ¿Cuántas palabras en total tiene el texto?\n",
    "2. ¿Cuál es la palabra que más veces aparece y cuantas veces aparece?\n",
    "3. ¿Cuántas palabras diferentes hay en el texto?"
   ]
  },
  {
   "attachments": {},
   "cell_type": "markdown",
   "metadata": {},
   "source": [
    "## Ayuda a la implementación\n",
    "\n",
    "Puedes crear cadenas multilínea utilizando triples comillas. Por ejemplo, puedes definir una variable que contenga el fragmento anterior con sus saltos de línea de la siguiente manera:"
   ]
  },
  {
   "cell_type": "code",
   "execution_count": null,
   "metadata": {},
   "outputs": [],
   "source": [
    "fragmento = '''\n",
    "Un Anillo para gobernarlos a todos.\n",
    "Un Anillo para encontrarlos,\n",
    "un Anillo para atraerlos a todos y atarlos en las tinieblas.\n",
    "\n",
    "Tres Anillos para los Reyes Elfos bajo el cielo\n",
    "Siete para los Señores Enanos en palacios de piedra.\n",
    "Nueve para los Hombres Mortales condenados a morir.\n",
    "Uno para el Señor Oscuro, sobre el trono oscuro\n",
    "en la Tierra de Mordor donde se extienden las Sombras.\n",
    "Un Anillo para gobernarlos a todos.\n",
    "Un Anillo para encontrarlos,\n",
    "un Anillo para atraerlos a todos y atarlos en las tinieblas\n",
    "en la Tierra de Mordor donde se extienden las Sombras.\n",
    "'''\n"
   ]
  },
  {
   "attachments": {},
   "cell_type": "markdown",
   "metadata": {},
   "source": [
    "Utiliza la función `pprint` para mostrar el contenido del diccionario de una forma más práctica para la lectura.\n",
    "\n",
    "```\n",
    "from pprint import pprint\n",
    "\n",
    "pprint(diccionario)\n",
    "```"
   ]
  }
 ],
 "metadata": {
  "language_info": {
   "name": "python"
  },
  "orig_nbformat": 4
 },
 "nbformat": 4,
 "nbformat_minor": 2
}
