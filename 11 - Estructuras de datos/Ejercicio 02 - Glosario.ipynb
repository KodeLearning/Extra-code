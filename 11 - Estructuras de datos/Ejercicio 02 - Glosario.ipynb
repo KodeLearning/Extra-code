{
 "cells": [
  {
   "attachments": {},
   "cell_type": "markdown",
   "metadata": {},
   "source": [
    "# Ejercicio 2. Clasificación por iniciales\n",
    "\n",
    "## Enunciado\n",
    "\n",
    "Quieres crear un glosario para ir anotando las nuevas palabras que vas aprendiendo día a  en tus clases de inglés. Quieres organizar las palabras por grupos para poder estudiar escogiendo un grupo al azar.\n",
    "\n",
    "Para almacenar las palabras, vas a crear una lista de 10 elementos. Cada elemento será una lista de palabras. Con la idea de distribuir las palabras has decidido utilizar una función hash de forma que, al sumar los códigos ASCII de las letras que forman la palabra y calcular el resto de dividirlo por 10, el resultado será el índice de la lista en la que se almacenará la palabra.\n",
    "\n",
    "Según esto, la palabra  se almacenará en la lista con el índice y la palabra  en la lista con el índice.\n",
    "\n",
    "Para probar tu código puedes utilizar la siguiente lista de palabras: `['paper', 'table', 'pencil', 'Computer', 'MOBILE', 'keyboard', 'Mouse', 'Screen', 'Python', 'cursor', 'database', 'code', 'programming', 'bug', 'debugger']`."
   ]
  },
  {
   "attachments": {},
   "cell_type": "markdown",
   "metadata": {},
   "source": [
    "## Ayuda a la implementación\n",
    "\n",
    "- Puedes obtener el valor del código ASCII de un carácter utilizando la función `ord()`.\n",
    "- Para no mantener palabras repetidas, comprueba si la palabra ya está agregada en el glosario.\n",
    "- Guarda todas las palabras en minúsuculas utilizando el método `lower()`."
   ]
  }
 ],
 "metadata": {
  "language_info": {
   "name": "python"
  },
  "orig_nbformat": 4
 },
 "nbformat": 4,
 "nbformat_minor": 2
}
