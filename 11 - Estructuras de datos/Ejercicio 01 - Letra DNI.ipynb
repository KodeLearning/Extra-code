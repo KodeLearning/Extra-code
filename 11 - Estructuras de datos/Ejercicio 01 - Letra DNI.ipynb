{
 "cells": [
  {
   "attachments": {},
   "cell_type": "markdown",
   "metadata": {},
   "source": [
    "# Ejercicio 01. Clasificación por edades\n",
    "\n",
    "## Enunciado\n",
    "\n",
    "Un ejemplo de función hash que está delante de nuestros ojos aunque pueda pasar desapercibida es la función que calcula la letra del DNI. Esta función hash tiene como objetivo detectar erratas a la hora de escribir un número de DNI.\n",
    "\n",
    "Crea la función hash `letra_dni` que calcula la letra del DNI sabiendo que:\n",
    "\n",
    "- Se divide el número del DNI entre 23\n",
    "- Se obtiene el resto y se busca la letra según la siguiente tabla:\n",
    "\n",
    "```\n",
    "  RESTO 0 1 2 3 4 5 6 7 8 9 10 11\n",
    "  LETRA T R W A G M Y F P D X  B\n",
    "\n",
    "  RESTO\t12 13 14 15 16 17 18 19 20 21 22\n",
    "  LETRA\tN  J  Z  S  Q  V  H  L  C  K  E\n",
    "```\n",
    "\n",
    "Utiliza la función hash para crear una función `validar_dni` que dado un DNI (número y letra) permita comprobar si estos DNIs son correctos o erróneos. Esta función devolverá `True` si el DNI es correcto y `False` en caso contrario:\n",
    "\n",
    "- 25387529Z --> Correcto\n",
    "- 62937656L --> Correcto\n",
    "- 74829378N --> Erróneo\n",
    "- 61076432R --> Correcto"
   ]
  },
  {
   "attachments": {},
   "cell_type": "markdown",
   "metadata": {},
   "source": [
    "## Ayuda a la implementación\n",
    "\n",
    "- Puedes convertir una cadena a número entero usando la función `int()`.\n",
    "- Recuerda que puedes acceder a los caracteres de una cadena por su índice (el primero es el cero).\n",
    "- Recuerda que puedes extraer una parte de una cadena utilizando _slicing_."
   ]
  }
 ],
 "metadata": {
  "language_info": {
   "name": "python"
  },
  "orig_nbformat": 4
 },
 "nbformat": 4,
 "nbformat_minor": 2
}
