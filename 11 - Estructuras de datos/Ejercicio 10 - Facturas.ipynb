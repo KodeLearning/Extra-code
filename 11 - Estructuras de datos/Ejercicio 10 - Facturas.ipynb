{
 "cells": [
  {
   "attachments": {},
   "cell_type": "markdown",
   "metadata": {},
   "source": [
    "# Ejercicio 10. Facturas\n",
    "\n",
    "## Enunciado\n",
    "\n",
    "Crea un diccionario `facturas` que contenga una clave por mes con los siguientes datos de facturas de clientes.\n",
    "\n",
    "    enero     Cliente 1   135.00\n",
    "    enero     Cliente 2    99.50\n",
    "    febrero   Cliente 1    50.00\n",
    "    febrero   Cliente 3    35.50\n",
    "    marzo     Cliente 2   105.75\n",
    "    marzo     Cliente 1    25.50\n",
    "    marzo     Cliente 3    45.75\n",
    "\n",
    "El diccionario será del tipo:\n",
    "\n",
    "```\n",
    "facturas = {\n",
    "  'enero': [ { 'nombre': 'Cliente 1', 'total': 135.00 }, ... ],\n",
    "  'febrero': [ ... ],\n",
    "  'marzo': [ ... ]\n",
    "}\n",
    "```\n",
    "\n",
    "Una vez creado el diccionario escribe un fragmento de código que cree un diccionario con los el total de gasto acumulado del trimestre por cliente. El resultado será algo como:\n",
    "\n",
    "```\n",
    "{\n",
    "  'Cliente 1': 210.5,\n",
    "  'Cliente 2': 205.25,\n",
    "  'Cliente 3': 81.25\n",
    "}\n",
    "```"
   ]
  }
 ],
 "metadata": {
  "language_info": {
   "name": "python"
  },
  "orig_nbformat": 4
 },
 "nbformat": 4,
 "nbformat_minor": 2
}
