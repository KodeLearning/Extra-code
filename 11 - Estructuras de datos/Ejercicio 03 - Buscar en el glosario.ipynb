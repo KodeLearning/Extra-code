{
 "cells": [
  {
   "attachments": {},
   "cell_type": "markdown",
   "metadata": {},
   "source": [
    "# Ejercicio 3. Buscar en el glosario\n",
    "\n",
    "## Enunciado\n",
    "\n",
    "Utilizando la función hash y el glosario del ejercicio anterior crea una función `buscar` que a partir de una palabra y el glosario devuelva `True` si la palabra se encuentra en el glosario y `False` en caso contrario."
   ]
  },
  {
   "attachments": {},
   "cell_type": "markdown",
   "metadata": {},
   "source": [
    "## Ayuda a la implementación\n",
    "\n",
    "No debes recorrer todos los elementos del glosario para encontrar la palabra, sino que debes hacer uso de la función hash para limitar el ámbito de búsqueda.\n",
    "\n",
    "Recuerda que puedes comprobar si un elemento pertenece a una lista con el operador `in`."
   ]
  }
 ],
 "metadata": {
  "language_info": {
   "name": "python"
  },
  "orig_nbformat": 4
 },
 "nbformat": 4,
 "nbformat_minor": 2
}
