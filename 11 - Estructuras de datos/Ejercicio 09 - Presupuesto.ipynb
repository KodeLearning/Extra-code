{
 "cells": [
  {
   "attachments": {},
   "cell_type": "markdown",
   "metadata": {},
   "source": [
    "# Ejercicio 9. Presupuesto\n",
    "\n",
    "## Enunciado\n",
    "\n",
    "Necesitas algunos materiales para pintar tus miniaturas de Warhammer. Habitualmente compras en dos tiendas y sueles comparar precios para comprar en la que tenga los precios más baratos en ese momento. Para no tener que hacerlo manualmente con lápiz y papel has pensado que unos diccionarios en Python te ahorrarán algún trabajo.\n",
    "\n",
    "Para empezar has creado una lista con un diccionario por tienda que tiene el nombre de la tienda y sus precios (cada producto es la clave y el precio el valor)."
   ]
  },
  {
   "cell_type": "code",
   "execution_count": null,
   "metadata": {},
   "outputs": [],
   "source": [
    "tiendas = [{\n",
    "    \"nombre\": \"Manualidades Goblin\",\n",
    "    \"precios\": {\n",
    "        \"limas de grano fino\": 6.75,\n",
    "        \"tinta red goblin\": 3.65,\n",
    "        \"pegamento cianoacrilato\": 4.50,\n",
    "        \"puntas de precisión para pegamento\": 4.95,\n",
    "        \"pincel num 0\": 5.15,\n",
    "        \"pincel num 1\": 5.30,\n",
    "        \"pincel num 2\": 6.35\n",
    "    }\n",
    "},\n",
    "    {\n",
    "    \"nombre\": \"Artes oscuras\",\n",
    "    \"precios\": {\n",
    "        \"limas de grano fino\": 6.25,\n",
    "        \"tinta red goblin\": 4.65,\n",
    "        \"pegamento cianoacrilato\": 4.75,\n",
    "        \"puntas de precisión para pegamento\": 4.35,\n",
    "        \"pincel num 0\": 5.00,\n",
    "        \"pincel num 1\": 5.25,\n",
    "        \"pincel num 2\": 6.50,\n",
    "        \"pincel num 2/0\": 4.75,\n",
    "        \"pincel num 3/0\": 4.75\n",
    "    }\n",
    "}]\n"
   ]
  },
  {
   "attachments": {},
   "cell_type": "markdown",
   "metadata": {},
   "source": [
    "1. Crea una lista con los tres productos que quieres comprar: pincel num 0, tinta red goblin, limas de grano fino\n",
    "2. Crea un fragmento de código que cree un diccionario donde:\n",
    "   - La clave es el nombre de la tienda\n",
    "   - El valor es la suma de los precios de los productos que quieres comprar en esa tienda\n",
    "3. Calcula la tienda que tiene el presupuesto más barato y qué valor tiene. Con los datos del ejemplo, el presupuesto más barato es el de Manualidades Goblin con un precio de 15.55"
   ]
  }
 ],
 "metadata": {
  "language_info": {
   "name": "python"
  },
  "orig_nbformat": 4
 },
 "nbformat": 4,
 "nbformat_minor": 2
}
