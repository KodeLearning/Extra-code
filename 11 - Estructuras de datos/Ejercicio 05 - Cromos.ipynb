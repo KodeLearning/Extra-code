{
 "cells": [
  {
   "attachments": {},
   "cell_type": "markdown",
   "metadata": {},
   "source": [
    "# Ejercicio 5. Cromos\n",
    "\n",
    "## Enunciado\n",
    "\n",
    "Pedro y Ana coleccionan cromos de personajes de Marvel. Como estás aprendiendo a programar les has dicho que quieres hacer un pequeo programa para ayudarles a intercambiar cromos fácilmente.\n",
    "\n",
    "Para ello has decido guardar en dos conjuntos los cromos que tiene cada uno:\n",
    "\n",
    "- Pedro: Capitán América, Thor, Nebula, Gamorra, Rocket, Soldado de invierno, Daredevil, Hulk\n",
    "- Ana: Nebula, Ojo de Halcón, Doctor Strange, Viuda negra, Ironman, Ant-man, Daredevil, Peggy Carter\n",
    "\n",
    "Usando operaciones sobre conjuntos reponde a las siguientes preguntas:\n",
    "\n",
    "1. ¿Qué cromos tienen en comun Ana y Pedro?\n",
    "2. ¿Qué cromos tiene Pedro que no tiene Ana?\n",
    "3. ¿Y cuáles tiene Ana que no tiene Pedro?\n",
    "4. Si juntasen sus cromos qué personajes tendrían en total"
   ]
  },
  {
   "cell_type": "code",
   "execution_count": null,
   "metadata": {},
   "outputs": [],
   "source": []
  }
 ],
 "metadata": {
  "language_info": {
   "name": "python"
  },
  "orig_nbformat": 4
 },
 "nbformat": 4,
 "nbformat_minor": 2
}
