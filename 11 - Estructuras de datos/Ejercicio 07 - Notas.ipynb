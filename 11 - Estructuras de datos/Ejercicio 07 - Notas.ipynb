{
 "cells": [
  {
   "attachments": {},
   "cell_type": "markdown",
   "metadata": {},
   "source": [
    "# Ejercicio 7. Notas\n",
    "\n",
    "## Enunciado\n",
    "\n",
    "El instructor de este bootcamp quiere preparar un pequeño programa en Python que le ayude con las notas de los proyectos finales. Para ello ha decidido utilizar un diccionario que le permita mantener información de cada estudiante que incluya:\n",
    "\n",
    "- Nombre\n",
    "- Email\n",
    "- Nota\n",
    "\n",
    "Crea un diccionario que mantenga la información para cada estudiante y sea accesible por su email (es decir, el email es la clave del diccionario) y el valor serán los datos del alumno (nombre y nota).\n",
    "\n",
    "Después crea un fragmento de código que, dado el diccionario, permita calcular el total de notas disponibles, la nota más alta, la nota más baja y el promedio nota de todos los proyectos.\n",
    "\n",
    "Puedes utilizar estos datos de ejemplo:\n",
    "\n",
    "- aragorn@minastirith.com, Aragorn, 9\n",
    "- gollum@lacomarca.com, Gollum, 7\n",
    "- legolas@bosquenegro.com, Légolas, 10\n",
    "- gimli@tierramedia.com, Gimli, 6\n",
    "- gandalf@istar.com, Gandalf, 9\n",
    "- elrond@rivendel.com, Elrond, 8\n",
    "- bilbo@lacomarca.com', Bilbo Bolsón, 7\n",
    "\n",
    "Con estos datos, el resultado será:\n",
    "\n",
    "```\n",
    "Hay un total de 7 notas\n",
    "La nota más baja es  6\n",
    "La nota más alta es  10\n",
    "La nota media es 8.0\n",
    "```\n"
   ]
  },
  {
   "cell_type": "code",
   "execution_count": null,
   "metadata": {},
   "outputs": [],
   "source": []
  }
 ],
 "metadata": {
  "language_info": {
   "name": "python"
  },
  "orig_nbformat": 4
 },
 "nbformat": 4,
 "nbformat_minor": 2
}
