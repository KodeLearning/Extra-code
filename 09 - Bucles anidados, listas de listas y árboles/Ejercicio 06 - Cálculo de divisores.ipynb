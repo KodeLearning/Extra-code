{
 "cells": [
  {
   "attachments": {},
   "cell_type": "markdown",
   "metadata": {},
   "source": [
    "# Ejercicio 6. Cálculo de divisores\n",
    "\n",
    "## Enunciado\n",
    "\n",
    "En el colegio de tu peque están enseñando el cálculo de los divisores primos de un número entero. Para ayudarle con la tarea has decidido hacer una función que calcule los divisores paso a paso para poder corregir los ejercicios antes de llevarlos de vuelta al cole.\n",
    "\n",
    "El procedimiento consiste en ir probando los diferentes números primos y ver si el cociente es o no exacto. En caso de ser exacto, indica que el número primo probado es un divisor, así que se anota como divisor a la derecha del número, se anota el resultado de la división debajo del número y se vuelve a probar. En caso contrario, se prueba con el siguiente número primo. El proceso acaba cuando el resultado de la división por el número primo es 1.\n",
    "\n",
    "Los números primos siempre se comprueban de mayor a menor y sabemos que ninguno de los números propuestos tiene un número primo mayor de 17. Es decir, utiliza esta lista de números primos, donde hemos descartado el número 1 al ser un divisor _obvio_:"
   ]
  },
  {
   "cell_type": "code",
   "execution_count": null,
   "metadata": {},
   "outputs": [],
   "source": [
    "primos = [2, 3, 5, 7, 11, 13, 17]"
   ]
  },
  {
   "attachments": {},
   "cell_type": "markdown",
   "metadata": {},
   "source": [
    "Por ejemplo, si queremos calcular los divisores del número 1.749.300, el resultado, incluyendo todos los pasos sería:\n",
    "\n",
    "```\n",
    "1749300 | 17\n",
    " 102900 | 7\n",
    "  14700 | 7\n",
    "   2100 | 7\n",
    "    300 | 5\n",
    "     60 | 5\n",
    "     12 | 3\n",
    "      4 | 2\n",
    "      2 | 2\n",
    "      1 |\n",
    "```"
   ]
  },
  {
   "attachments": {},
   "cell_type": "markdown",
   "metadata": {},
   "source": [
    "Es posible representar esta estructura como una lista donde cada elemento representa una fila como una tupla donde el primer elemento es el resultado de la división y el segundo el divisor."
   ]
  },
  {
   "attachments": {},
   "cell_type": "markdown",
   "metadata": {},
   "source": [
    "Crea una función que reciba un número entero como parámetro y devuelva una lista que represente el árbol con los divisores tal y como se ha descrito. El resultado para el número 1.749.300 es el siguiente:\n",
    "\n",
    "```\n",
    "[\n",
    "  (1749300, 17),\n",
    "  (102900, 7),\n",
    "  (14700, 7),\n",
    "  (2100, 7),\n",
    "  (300, 5),\n",
    "  (60, 5),\n",
    "  (12, 3),\n",
    "  (4, 2),\n",
    "  (2, 2)\n",
    "]\n",
    "```"
   ]
  },
  {
   "attachments": {},
   "cell_type": "markdown",
   "metadata": {},
   "source": [
    "Utiliza el resultado de la función para imprimir los divisores únicos. En el caso del número 1.749.300 el resultado sería:\n",
    "\n",
    "```\n",
    "Los divisores son: 17 7 5 3 2\n",
    "```"
   ]
  },
  {
   "attachments": {},
   "cell_type": "markdown",
   "metadata": {},
   "source": [
    "## Ayuda a la implementación\n",
    "\n",
    "Puedes _invertir_ el orden de los elementos de una lista como `lista[::-1]` sin modificarla. Si utilizas el método `.reverse()` la lista original será modificada.\n",
    "\n",
    "Recuerda que la división entera se calcula con el operador _división entera_ `//` y el resto con el operador _módulo_ `%`."
   ]
  }
 ],
 "metadata": {
  "language_info": {
   "name": "python"
  },
  "orig_nbformat": 4
 },
 "nbformat": 4,
 "nbformat_minor": 2
}
