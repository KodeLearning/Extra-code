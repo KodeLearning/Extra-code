{
 "cells": [
  {
   "attachments": {},
   "cell_type": "markdown",
   "metadata": {},
   "source": [
    "# Ejercicio 4. Un poco de ejercicio\n",
    "\n",
    "## Enunciado\n",
    "\n",
    "Estás haciendo una aplicación para tu smart watch que registra los tiempos en tus largas caminatas de senderísmo. Para ello es necesario que crees una estructura de datos `caminata` donde se almacene la lista de tiempos dedicada a los descansos, a ir andando a ritmo lento y los dedicados a ir corriendo. Como ejemplo, en la última caminata se registraron los siguientes tiempos:\n",
    "\n",
    "- Descanso: 5, 12, 3\n",
    "- Andando: 23, 17, 32, 45\n",
    "- Corriendo: 11, 13, 17\n",
    "\n",
    "Al finalizar cada sesión, el reloj nos muestra el resumen de la caminata, calculando el tiempo total dedicada a cada uno de los tres niveles de actividad. Con los datos de ejemplo, el resultado es la lista `[20, 117, 41]`"
   ]
  },
  {
   "attachments": {},
   "cell_type": "markdown",
   "metadata": {},
   "source": [
    "## Ayuda a la implementación\n",
    "\n",
    "Utiliza un bucle que recorra la lista principal que tenga otro bucle interior que recorra cada lista con los tiempos para realizar la suma."
   ]
  }
 ],
 "metadata": {
  "language_info": {
   "name": "python"
  },
  "orig_nbformat": 4
 },
 "nbformat": 4,
 "nbformat_minor": 2
}
