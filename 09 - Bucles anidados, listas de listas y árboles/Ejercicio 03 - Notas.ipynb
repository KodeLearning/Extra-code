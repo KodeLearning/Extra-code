{
 "cells": [
  {
   "attachments": {},
   "cell_type": "markdown",
   "metadata": {},
   "source": [
    "# Ejercicio 3. Notas\n",
    "\n",
    "## Enunciado\n",
    "\n",
    "Queremos almacenar los resultados de las calificaciones obtenidas por los estudiantes del bootcamp. Aprovechando la posibilidad que nos ofrece Python de almacenar datos de distintos tipos en una lista (listas heterogéneas) podemos almacenar la calificación de cada estudiante en una lista donde el primer elemento sea su nombre y el segundo la calificación obtenida.\n",
    "\n",
    "Almacenaremos las notas de toda la clase en una lista donde cada elemento sea la calificación de cada estudiante.\n",
    "\n",
    "Crea la estructura de datos descrita para almacenar las siguientes calificaciones en la variable `notas`:\n",
    "\n",
    "- Pedro: 7\n",
    "- Ana: 9\n",
    "- Juan: 5\n",
    "- Rosa: 6\n",
    "- Tony: 3"
   ]
  },
  {
   "attachments": {},
   "cell_type": "markdown",
   "metadata": {},
   "source": [
    "Con esa estructura de datos creada escribe el código necesario para calcular la nota media del aula."
   ]
  },
  {
   "attachments": {},
   "cell_type": "markdown",
   "metadata": {},
   "source": [
    "## Ayuda a la implementación\n",
    "\n",
    "El promedio se calcula como la suma de todas las notas dividida entre el total de notas. En este caso, la nota media será (7+9+5+6+3)/5 = 30/5 = 6"
   ]
  }
 ],
 "metadata": {
  "language_info": {
   "name": "python"
  },
  "orig_nbformat": 4
 },
 "nbformat": 4,
 "nbformat_minor": 2
}
