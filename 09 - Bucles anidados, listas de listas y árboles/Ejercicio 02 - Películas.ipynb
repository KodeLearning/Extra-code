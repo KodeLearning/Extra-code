{
 "cells": [
  {
   "attachments": {},
   "cell_type": "markdown",
   "metadata": {},
   "source": [
    "# Ejercicio 2. Películas\n",
    "\n",
    "## Enunciado\n",
    "\n",
    "Continuando con las películas que hemos visto cada mes, crea ahora una estructura de datos donde, para cada mes entre enero y mayo guardes la lista de películas que has visto cada mes. Guarda esa estructura en la variable `peliculas`.\n",
    "\n",
    "Utiliza esta información para crear los datos:\n",
    "\n",
    "- Enero: El pianista, Doctor Strange\n",
    "- Febrero: Dragones y mazmorras\n",
    "- Marzo: John Wick, Pulp Fiction, Matrix, El hombre que pudo reinar\n",
    "- Abril: Ninguna película\n",
    "- Mayo: El padrino, La vida es bella, El resplandor"
   ]
  },
  {
   "attachments": {},
   "cell_type": "markdown",
   "metadata": {},
   "source": [
    "Ahora escribe el código necesario para crear una lista con el número de películas vistas cada mes. Utilizando los datos anteriores, el resultado sería esta lista con cinco elementos `[2, 1, 4, 0, 3]`."
   ]
  },
  {
   "attachments": {},
   "cell_type": "markdown",
   "metadata": {},
   "source": [
    "## Ayuda a la implementación\n",
    "\n",
    "La longitud de una lista se puede obtener con la función `len`.\n",
    "\n",
    "Para agregar un elemento al final de una lista utiliza el método `.append(elemento)`."
   ]
  }
 ],
 "metadata": {
  "language_info": {
   "name": "python"
  },
  "orig_nbformat": 4
 },
 "nbformat": 4,
 "nbformat_minor": 2
}
