{
 "cells": [
  {
   "attachments": {},
   "cell_type": "markdown",
   "metadata": {},
   "source": [
    "# Ejercicio 10. Búsqueda binaria (II)\n",
    "\n",
    "## Enunciado\n",
    "\n",
    "Utilizando la función del ejercicio anterior para generar árboles binarios de búsqueda, crea un árbol binario de búsqueda a partir de la lista \n",
    "\n",
    "```\n",
    "[66, 34, 79, 26, 83, 39, 32, 60, 22, 74, 37, 80, 82, 50, 73, 66, 31, 44, 33, 51]\n",
    "```\n",
    "\n",
    "Escribe una función que permita buscar un elemento en el árbol binario de búsqueda sin necesidad de recorrer el árbol completo, es decir, aprovechando la propiedad de que todos los elementos del hijo izquierdo son menores y que los elementos del hijo derecho son mayores que el valor del nodo actual."
   ]
  },
  {
   "cell_type": "code",
   "execution_count": null,
   "metadata": {},
   "outputs": [],
   "source": []
  }
 ],
 "metadata": {
  "language_info": {
   "name": "python"
  },
  "orig_nbformat": 4
 },
 "nbformat": 4,
 "nbformat_minor": 2
}
