{
 "cells": [
  {
   "attachments": {},
   "cell_type": "markdown",
   "metadata": {},
   "source": [
    "# Ejercicio 9. Animales (II)\n",
    "\n",
    "## Enunciado\n",
    "\n",
    "Vamos a trabajar el concepto de herencia creando una jerarquía de clases para representar el hecho de que todos los gatos son mamíferos y todos los mamíferos son animales (por tanto todos los gatos son animales).\n",
    "\n",
    "Para ello:\n",
    "\n",
    "1. Crea una clase `Animal` que acepte nombre y edad en el constructor y guarde esos dos valores como atributos de instancia. Además, en el constructor, crea un atributo de instancia `clasificacion` con el valor `'Animal'`.\n",
    "\n",
    "2. Agrega un método `quien_soy()` que devuelva una cadena con el nombre y la edad del animal.\n",
    "\n",
    "3. Agrega el método `__repr__()` que, simplemente, devuelva el resultado de llamar al método `quien_soy()`.\n",
    "\n",
    "4. Agrega el método `como_sueno()` que, en el caso de la clase animal devuelva la cadena \"No lo sé\"\n",
    "\n",
    "5. Crea una clase `Mamífero` que herede de `Animal`. Sobreescribe el constructor para que el atributo `clasificación` contenga ahora la secuencia `'Animal -> Mamífero'`. Usa el valor de la clase `Animal` agregando `' -> Mamífero'` para obtener el valor deseado.\n",
    "\n",
    "6. Crea una clase `Gatito` que herede de `Mamífero`. Sobreescribe el constructor de forma análoga a como lo has hecho en mamífero, pero esta vez agrega la cadena `' -> Gatito'` para que el valor resultante sea `'Animal -> Mamífero -> Gatito'`.\n",
    "\n",
    "7. En la clase `Gatito` sobreescribe el método `como_sueno` para que devuelva la cadena `'Hago Miau!'`.\n",
    "\n",
    "8. En la clase `Gatito` sobreescribe el método `quien_soy()` para que el resultado incluya la palabra \"Gatito\", el nombre y la edad."
   ]
  },
  {
   "attachments": {},
   "cell_type": "markdown",
   "metadata": {},
   "source": [
    "## Ayuda a la implementación\n",
    "\n",
    "Puedes usar estos datos para comprobar el resultado:\n",
    "\n",
    "animal: Doraemon, 12 años\n",
    "- quién soy: 'Doraemon de 12 años'\n",
    "- clasificación: 'Animal'\n",
    "- como sueno: 'No lo sé'\n",
    "    \n",
    "animal: Snoopy, 5 años\n",
    "- quién soy: 'Snoopy de 5 años'\n",
    "- clasificación: 'Animal -> Mamífero'\n",
    "- como sueno: 'No lo sé'\n",
    "    \n",
    "animal: Garfield, 7 años\n",
    "- quien soy: Gatito Garfield de 7 años\n",
    "- clasificación: 'Animal -> Mamífero -> Gatito'\n",
    "- como sueno: 'Hago Miau!!'"
   ]
  }
 ],
 "metadata": {
  "language_info": {
   "name": "python"
  },
  "orig_nbformat": 4
 },
 "nbformat": 4,
 "nbformat_minor": 2
}
